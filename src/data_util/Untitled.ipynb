{
 "cells": [
  {
   "cell_type": "code",
   "execution_count": 19,
   "metadata": {},
   "outputs": [
    {
     "name": "stdout",
     "output_type": "stream",
     "text": [
      "done\n"
     ]
    }
   ],
   "source": [
    "import pickle\n",
    "def resave_pickle(source_path,dest_path):\n",
    "    arr = []\n",
    "    with open(source_path,'rb') as f: \n",
    "        pickle.load(f)\n",
    "        while True:\n",
    "            try:\n",
    "                arr.append(pickle.load(f))\n",
    "            except EOFError:\n",
    "                break\n",
    "    with open(dest_path,'wb') as f: \n",
    "        pickle.dump(arr,f,pickle.HIGHEST_PROTOCOL)\n",
    "\n",
    "src = '/media/jan/960C9A1F0C99FA87/FormulaNetDataset/test/holstep04'\n",
    "dst = '/media/jan/960C9A1F0C99FA87/formulaNetNew/test/holstep04'\n"
   ]
  },
  {
   "cell_type": "code",
   "execution_count": 30,
   "metadata": {},
   "outputs": [
    {
     "name": "stderr",
     "output_type": "stream",
     "text": [
      "\r",
      "  0%|          | 0/20 [00:00<?, ?it/s]"
     ]
    },
    {
     "name": "stdout",
     "output_type": "stream",
     "text": [
      "-----------------------------\n"
     ]
    },
    {
     "name": "stderr",
     "output_type": "stream",
     "text": [
      "100%|██████████| 20/20 [03:35<00:00, 10.77s/it]\n",
      "  0%|          | 0/200 [00:00<?, ?it/s]"
     ]
    },
    {
     "name": "stdout",
     "output_type": "stream",
     "text": [
      "-----------------------------\n"
     ]
    },
    {
     "name": "stderr",
     "output_type": "stream",
     "text": [
      "100%|██████████| 200/200 [38:36<00:00, 11.58s/it]\n",
      "  0%|          | 0/20 [00:00<?, ?it/s]"
     ]
    },
    {
     "name": "stdout",
     "output_type": "stream",
     "text": [
      "-----------------------------\n"
     ]
    },
    {
     "name": "stderr",
     "output_type": "stream",
     "text": [
      "100%|██████████| 20/20 [03:07<00:00,  9.37s/it]"
     ]
    },
    {
     "name": "stdout",
     "output_type": "stream",
     "text": [
      "done\n"
     ]
    },
    {
     "name": "stderr",
     "output_type": "stream",
     "text": [
      "\n"
     ]
    }
   ],
   "source": [
    "import os\n",
    "import tqdm\n",
    "src_root = '/media/jan/960C9A1F0C99FA87/FormulaNetDataset'\n",
    "dst_root = '/media/jan/960C9A1F0C99FA87/formulaNetNew'\n",
    "for dir_name in os.listdir(src_root):\n",
    "    print('-----------------------------')\n",
    "    for file in tqdm.tqdm(os.listdir(root+\"/\"+dir_name)):\n",
    "        src_path = src_root + \"/\" + dir_name + \"/\" + file\n",
    "        dst_path = dst_root + \"/\" + dir_name + \"/\" + file\n",
    "        resave_pickle(src_path,dst_path)\n",
    "print('done')"
   ]
  },
  {
   "cell_type": "code",
   "execution_count": 20,
   "metadata": {},
   "outputs": [
    {
     "data": {
      "text/plain": [
       "(0,\n",
       " [<0> CFUNC ==>:c: i: 3 | o: 1 8 | ,\n",
       "  <1> CFUNC <=:c: i: 0 | o: 2 5 | ,\n",
       "  <2> CFUNC sizel:c: i: 1 | o: 4 | ,\n",
       "  <3> QUANT !!: i: 6 | o: 0 4 |  | var: value: 4 | functions: [],\n",
       "  <4> VAR s: i: 2 10 8 3 | o:  |  | quant: 3,\n",
       "  <5> CFUNC sumn:c: i: 1 | o: 7 | ,\n",
       "  <6> QUANT !!: i: 11 | o: 3 7 |  | var: value: 7 | functions: [],\n",
       "  <7> VAR sh: i: 5 10 6 | o:  |  | quant: 6,\n",
       "  <8> CFUNC =:c: i: 0 | o: 9 4 | ,\n",
       "  <9> CFUNC flatten:c: i: 8 | o: 10 | ,\n",
       "  <10> CFUNC reshape:c: i: 9 | o: 7 4 | ,\n",
       "  <11> CFUNC |-:c: i:  | o: 6 | ],\n",
       " [<0> CFUNC |-:c: i: 2 | o: 1 6 | ,\n",
       "  <1> CFUNC =:c: i: 0 | o: 3 5 | ,\n",
       "  <2> QUANT !!: i: 4 | o: 0 3 |  | var: value: 3 | functions: [],\n",
       "  <3> VAR s: i: 1 18 22 20 2 | o:  |  | quant: 2,\n",
       "  <4> QUANT !!: i: 11 | o: 2 5 |  | var: value: 5 | functions: [],\n",
       "  <5> VAR s1: i: 1 9 15 13 4 | o:  |  | quant: 4,\n",
       "  <6> CFUNC =:c: i: 0 | o: 7 16 | ,\n",
       "  <7> CFUNC ==>:c: i: 6 | o: 8 13 | ,\n",
       "  <8> CFUNC <=:c: i: 7 | o: 9 10 | ,\n",
       "  <9> CFUNC sizel:c: i: 8 | o: 5 | ,\n",
       "  <10> CFUNC sumn:c: i: 8 | o: 12 | ,\n",
       "  <11> QUANT !!: i:  | o: 4 12 |  | var: value: 12 | functions: [],\n",
       "  <12> VAR sh: i: 10 15 19 22 11 | o:  |  | quant: 11,\n",
       "  <13> CFUNC =:c: i: 7 | o: 14 5 | ,\n",
       "  <14> CFUNC flatten:c: i: 13 | o: 15 | ,\n",
       "  <15> CFUNC reshape:c: i: 14 | o: 12 5 | ,\n",
       "  <16> CFUNC ==>:c: i: 6 | o: 17 20 | ,\n",
       "  <17> CFUNC <=:c: i: 16 | o: 18 19 | ,\n",
       "  <18> CFUNC sizel:c: i: 17 | o: 3 | ,\n",
       "  <19> CFUNC sumn:c: i: 17 | o: 12 | ,\n",
       "  <20> CFUNC =:c: i: 16 | o: 21 3 | ,\n",
       "  <21> CFUNC flatten:c: i: 20 | o: 22 | ,\n",
       "  <22> CFUNC reshape:c: i: 21 | o: 12 3 | ])"
      ]
     },
     "execution_count": 20,
     "metadata": {},
     "output_type": "execute_result"
    }
   ],
   "source": [
    "arrays = [[1,2],[2,4]]\n",
    "with open('/media/jan/960C9A1F0C99FA87/formulaNetNew/test/holstep04','rb') as f:   \n",
    "        file = pickle.load(f)\n",
    "file[0]"
   ]
  }
 ],
 "metadata": {
  "kernelspec": {
   "display_name": "Python 3",
   "language": "python",
   "name": "python3"
  },
  "language_info": {
   "codemirror_mode": {
    "name": "ipython",
    "version": 3
   },
   "file_extension": ".py",
   "mimetype": "text/x-python",
   "name": "python",
   "nbconvert_exporter": "python",
   "pygments_lexer": "ipython3",
   "version": "3.7.4"
  }
 },
 "nbformat": 4,
 "nbformat_minor": 2
}
